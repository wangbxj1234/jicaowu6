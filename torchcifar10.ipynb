{
  "nbformat": 4,
  "nbformat_minor": 0,
  "metadata": {
    "colab": {
      "name": "torchcifar10.ipynb",
      "provenance": [],
      "authorship_tag": "ABX9TyP1uEr7fLCdnXy6ynOGAbMO",
      "include_colab_link": true
    },
    "kernelspec": {
      "name": "python3",
      "display_name": "Python 3"
    },
    "language_info": {
      "name": "python"
    }
  },
  "cells": [
    {
      "cell_type": "markdown",
      "metadata": {
        "id": "view-in-github",
        "colab_type": "text"
      },
      "source": [
        "<a href=\"https://colab.research.google.com/github/wangbxj1234/jicaowu6/blob/main/torchcifar10.ipynb\" target=\"_parent\"><img src=\"https://colab.research.google.com/assets/colab-badge.svg\" alt=\"Open In Colab\"/></a>"
      ]
    },
    {
      "cell_type": "code",
      "metadata": {
        "id": "5rFU6bz6vNGg"
      },
      "source": [
        "import torch\n",
        "import torchvision\n",
        "import torchvision.transforms as transforms"
      ],
      "execution_count": 1,
      "outputs": []
    },
    {
      "cell_type": "code",
      "metadata": {
        "colab": {
          "base_uri": "https://localhost:8080/"
        },
        "id": "T5uLWZaC071f",
        "outputId": "a7031e2a-3b5a-46bf-d8d3-355692eaa52d"
      },
      "source": [
        "transform = transforms.Compose(\n",
        "    [transforms.ToTensor(),\n",
        "     transforms.Normalize((0.5, 0.5, 0.5), (0.5, 0.5, 0.5))])\n",
        "#torchvision 数据集的输出是范围在[0,1]之间的 PILImage，我们将他们转换成归一化范围为[-1,1]之间的张量 Tensors。\n",
        "#前面的（0.5，0.5，0.5） 是 R G B 三个通道上的均值， 后面(0.5, 0.5, 0.5)是三个通道的标准差，\n",
        "#Normalize对每个通道执行以下操作：image =（图像-平均值）/ std\n",
        "trainset = torchvision.datasets.CIFAR10(root='./data', train=True,\n",
        "                                        download=True, transform=transform)\n",
        "trainloader = torch.utils.data.DataLoader(trainset, batch_size=4,\n",
        "                                          shuffle=True, num_workers=2)\n",
        "#dataloader本质上是一个可迭代对象，可以使用iter()进行访问，采用iter(dataloader)返回的是一个迭代器，然后可以使用next()访问。也可以使用enumerate(dataloader)的形式访问。\n",
        "testset = torchvision.datasets.CIFAR10(root='./data', train=False,\n",
        "                                       download=True, transform=transform)\n",
        "testloader = torch.utils.data.DataLoader(testset, batch_size=4,\n",
        "                                         shuffle=False, num_workers=2)\n",
        "\n",
        "classes = ('plane', 'car', 'bird', 'cat',\n",
        "           'deer', 'dog', 'frog', 'horse', 'ship', 'truck')\n"
      ],
      "execution_count": 2,
      "outputs": [
        {
          "output_type": "stream",
          "name": "stdout",
          "text": [
            "Downloading https://www.cs.toronto.edu/~kriz/cifar-10-python.tar.gz to ./data/cifar-10-python.tar.gz\n"
          ]
        },
        {
          "output_type": "stream",
          "name": "stderr",
          "text": [
            "100%|██████████| 170498071/170498071 [00:03<00:00, 46951811.56it/s]\n"
          ]
        },
        {
          "output_type": "stream",
          "name": "stdout",
          "text": [
            "Extracting ./data/cifar-10-python.tar.gz to ./data\n",
            "Files already downloaded and verified\n"
          ]
        }
      ]
    },
    {
      "cell_type": "code",
      "metadata": {
        "colab": {
          "base_uri": "https://localhost:8080/",
          "height": 211
        },
        "id": "lhRXgrxb1ELA",
        "outputId": "cc64b7ed-5b26-4194-93e0-45aa7b0a4476"
      },
      "source": [
        "import matplotlib.pyplot as plt\n",
        "import numpy as np\n",
        "\n",
        "# functions to show an image\n",
        "\n",
        "\n",
        "def imshow(img):\n",
        "    img = img / 2 + 0.5     # unnormalize，把0到1范围变回-1到1\n",
        "    npimg = img.numpy()     # 将torch.FloatTensor 转换为numpy\n",
        "    plt.imshow(np.transpose(npimg, (1, 2, 0)))\n",
        "    #因为在plt.imshow在现实的时候输入的是（imagesize,imagesize,channels）,而def imshow(img,text,should_save=False)中，参数img的格式为（channels,imagesize,imagesize）,这两者的格式不一致，\n",
        "    #我们需要调用一次np.transpose函数，即np.transpose(npimg,(1,2,0))，将npimg的数据格式由（channels,imagesize,imagesize）转化为（imagesize,imagesize,channels）,进行格式的转换后方可进行显示。\n",
        "    plt.show()\n",
        "\n",
        "\n",
        "# get some random training images\n",
        "#dataloader本质上是一个可迭代对象，可以使用iter()进行访问，采用iter(dataloader)返回的是一个迭代器，然后可以使用next()访问。也可以使用enumerate(dataloader)的形式访问。\n",
        "#iter(dataloader)访问时，imgs在前，labels在后，分别表示：图像转换0~1之间的值，labels为标签值。并且imgs和labels是按批次进行输入的。\n",
        "dataiter = iter(trainloader)\n",
        "#images, labels = dataiter.next()\n",
        "images, labels = next(dataiter)\n",
        "\n",
        "# show images画图\n",
        "imshow(torchvision.utils.make_grid(images))\n",
        "# print labels给图加标签\n",
        "print(' '.join('%10s' % classes[labels[j]] for j in range(4)))"
      ],
      "execution_count": 4,
      "outputs": [
        {
          "output_type": "display_data",
          "data": {
            "text/plain": [
              "<Figure size 640x480 with 1 Axes>"
            ],
            "image/png": "[encoded data removed]"
          },
          "metadata": {}
        },
        {
          "output_type": "stream",
          "name": "stdout",
          "text": [
            "     plane       deer       ship      horse\n"
          ]
        }
      ]
    },
    {
      "cell_type": "code",
      "metadata": {
        "id": "w6csLuLQ1Mnc"
      },
      "source": [
        "import torch.nn as nn\n",
        "import torch.nn.functional as F\n",
        "\n",
        "class Net(nn.Module):#########################模型构建\n",
        "  def __init__(self):# 2ge __\n",
        "    super(Net,self).__init__()\n",
        "    self.conv1 = nn.Conv2d(3,6,5)\n",
        "    self.pool = nn.MaxPool2d(2,2)\n",
        "    self.conv2 = nn.Conv2d(6,16,5)\n",
        "    self.fc1 = nn.Linear(5*5*16,120)\n",
        "    self.fc2 = nn.Linear(120,84)\n",
        "    self.fc3 = nn.Linear(84,10)\n",
        "  def forward(self,x):\n",
        "    x = self.pool(F.relu(self.conv1(x)))\n",
        "    x = self.pool(F.relu(self.conv2(x)))\n",
        "    x = x.view(-1,16*5*5)\n",
        "    x = F.relu(self.fc1(x))\n",
        "    x = F.relu(self.fc2(x))\n",
        "    x = self.fc3(x)\n",
        "    return x\n",
        "\n",
        "cnn = Net()"
      ],
      "execution_count": 5,
      "outputs": []
    },
    {
      "cell_type": "code",
      "metadata": {
        "id": "LjdXKAzbLpro"
      },
      "source": [
        "import torch.optim as optim\n",
        "criterion = nn.CrossEntropyLoss()\n",
        "optimizer = optim.SGD(cnn.parameters(),lr=0.001,momentum=0.9)\n"
      ],
      "execution_count": 6,
      "outputs": []
    },
    {
      "cell_type": "code",
      "metadata": {
        "colab": {
          "base_uri": "https://localhost:8080/"
        },
        "id": "qYwpGO_WMyXX",
        "outputId": "7c53d5c9-abdb-4b35-f3a1-787aa4fc1283"
      },
      "source": [
        "for epoch in range(2):\n",
        "\n",
        "  running_loss = 0.0\n",
        "\n",
        "  for i,data in enumerate(trainloader,0):#enumerate()用于可迭代\\可遍历的数据对象组合为一个索引序列，同时列出数据和数据下标.上面代码的0表示从索引从0开始，假如为1的话，那索引就从1开始。\n",
        "    inputs,labels = data\n",
        "    optimizer.zero_grad()\n",
        "    outputs = cnn(inputs)\n",
        "    loss = criterion(outputs,labels)\n",
        "    loss.backward()\n",
        "    optimizer.step()\n",
        "\n",
        "    running_loss+=loss.item()#get tensor's value\n",
        "    if i%2000 == 1999: #print every 2000 batches\n",
        "        print('[%d, %5d] loss: %.3f' %\n",
        "                  (epoch + 1, i + 1, running_loss / 2000))\n",
        "        running_loss = 0.0\n",
        "\n",
        "print('Finished Training')\n",
        "\n"
      ],
      "execution_count": 7,
      "outputs": [
        {
          "output_type": "stream",
          "name": "stdout",
          "text": [
            "[1,  2000] loss: 2.184\n",
            "[1,  4000] loss: 1.842\n",
            "[1,  6000] loss: 1.676\n",
            "[1,  8000] loss: 1.579\n",
            "[1, 10000] loss: 1.526\n",
            "[1, 12000] loss: 1.469\n",
            "[2,  2000] loss: 1.397\n",
            "[2,  4000] loss: 1.360\n",
            "[2,  6000] loss: 1.357\n",
            "[2,  8000] loss: 1.327\n",
            "[2, 10000] loss: 1.298\n",
            "[2, 12000] loss: 1.285\n",
            "Finished Training\n"
          ]
        }
      ]
    },
    {
      "cell_type": "code",
      "metadata": {
        "colab": {
          "base_uri": "https://localhost:8080/"
        },
        "id": "cMOj46DgVBEv",
        "outputId": "7dbdec09-3d25-4d67-e244-f2185086ddb9"
      },
      "source": [
        "correct = 0\n",
        "total = 0\n",
        "with torch.no_grad():\n",
        "    for data in testloader:\n",
        "        images, labels = data\n",
        "        outputs = cnn(images)\n",
        "        _, predicted = torch.max(outputs.data, 1) #下划线代表只输出index不输出value，1代表按照行取最大值（如果是0就是按照列取最大值）。\n",
        "        total += labels.size(0)#batch size 打印shape，发现就是size[4]\n",
        "\n",
        "        correct += (predicted == labels).sum().item()#.sum() #将向量里各个维度所有的值相加，得到的仍是tensor类别的int值 #item：转为数字\n",
        "\n",
        "print('Accuracy of the network on the 10000 test images: %d %%' % (\n",
        "    100 * correct / total))"
      ],
      "execution_count": 8,
      "outputs": [
        {
          "output_type": "stream",
          "name": "stdout",
          "text": [
            "Accuracy of the network on the 10000 test images: 52 %\n"
          ]
        }
      ]
    },
    {
      "cell_type": "code",
      "metadata": {
        "colab": {
          "base_uri": "https://localhost:8080/"
        },
        "id": "2vG5fxbb_TIw",
        "outputId": "36adfa3d-9fd3-4167-b7d4-565140381675"
      },
      "source": [
        "class_correct = list(0. for i in range(10)) #创建10个0的列表\n",
        "class_total = list(0. for i in range(10))\n",
        "with torch.no_grad():#以下内容不会参与反向传播\n",
        "    for data in testloader:\n",
        "        images, labels = data\n",
        "        outputs = cnn(images)\n",
        "        _, predicted = torch.max(outputs, 1)\n",
        "        c = (predicted == labels).squeeze()\n",
        "        for i in range(4):\n",
        "            label = labels[i]\n",
        "            class_correct[label] += c[i].item()\n",
        "            class_total[label] += 1\n",
        "\n",
        "\n",
        "\n",
        "for i in range(10):\n",
        "    print('Accuracy of %5s : %2d %%' % (\n",
        "        classes[i], 100 * class_correct[i] / class_total[i]))"
      ],
      "execution_count": 9,
      "outputs": [
        {
          "output_type": "stream",
          "name": "stdout",
          "text": [
            "Accuracy of plane : 51 %\n",
            "Accuracy of   car : 69 %\n",
            "Accuracy of  bird : 51 %\n",
            "Accuracy of   cat : 37 %\n",
            "Accuracy of  deer : 46 %\n",
            "Accuracy of   dog : 39 %\n",
            "Accuracy of  frog : 71 %\n",
            "Accuracy of horse : 43 %\n",
            "Accuracy of  ship : 81 %\n",
            "Accuracy of truck : 37 %\n"
          ]
        }
      ]
    }
  ]
}